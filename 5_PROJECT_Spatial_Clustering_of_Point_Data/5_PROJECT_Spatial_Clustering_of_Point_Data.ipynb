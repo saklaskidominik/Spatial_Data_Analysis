{
 "cells": [
  {
   "cell_type": "markdown",
   "id": "e8f13a56-4161-4127-8fa8-30fc8bb6c48f",
   "metadata": {},
   "source": [
    "<h2 style=\"text-align: center;\">Task Set 5</h2>\n",
    "<h1 style=\"text-align: center;\">PROJECT - Spatial Clustering of Point Data</h1>\n",
    "<p style=\"font-size:12px;\">\n",
    "The files <code>zestaw12.xlsx</code> and <code>osiedla.shp</code>, containing data essential for conducting the analysis, were provided by the course instructor as part of academic studies for tasks related to learning statistical modeling.\n",
    "</p>"
   ]
  },
  {
   "cell_type": "markdown",
   "id": "8f9a98fa-18bc-45de-8c7c-c9e34a27b33b",
   "metadata": {},
   "source": [
    "Celem ćwiczenia jest wyznaczenie `obszarów o zwiększonej intensywności zarejestrowanych\n",
    "wykroczeń na terenie Krakowa`. Analizę wydzielenia klastrów wykonaj używając pakietu R. "
   ]
  },
  {
   "cell_type": "markdown",
   "id": "fc2b49bb-5a20-4f34-918e-569ef0a644ec",
   "metadata": {},
   "source": [
    "Na podstawie poznanych na wykładzie algorytmów grupowania gęstościowego wydziel klastry\n",
    "o zwiększonej intensywności występowania wykroczeń. Przetestuj różne parametry dla każdej\n",
    "z metod. Wszystkie wyniki klasteryzacji przedstaw na tle mapy zawierającej granice osiedli w\n",
    "Krakowie. Każdy wynik powinien zawierać komentarz. Wskaż dzielnice Krakowa/osiedla gdzie\n",
    "wyznaczono klastry. "
   ]
  },
  {
   "cell_type": "markdown",
   "id": "6f214490-2b48-492f-86ba-ab791df85045",
   "metadata": {},
   "source": [
    "### Operacje wykonane w ArcGIS Pro\n",
    "Wczytaj do ArcGIS Pro otrzymany zestaw danych punktowych `(Zestaw12.xlsx)` oraz plik\n",
    "`osiedla.shp`. Współrzędne osiedli oraz współrzędne zgłoszonych wykroczeń powinny być\n",
    "przedstawione w jednakowym układzie współrzędnych `ETRS 1989 Poland CS2000 Zone 7`. Aby\n",
    "zmienić układ współrzędnych użyj funkcji np. Project. \n",
    "\n",
    "Wyeksportuj plik shapefile, który zawiera nowe współrzędne (Feature Class To Shapefile). \r\n"
   ]
  }
 ],
 "metadata": {
  "kernelspec": {
   "display_name": "R",
   "language": "R",
   "name": "ir"
  },
  "language_info": {
   "codemirror_mode": "r",
   "file_extension": ".r",
   "mimetype": "text/x-r-source",
   "name": "R",
   "pygments_lexer": "r",
   "version": "4.4.2"
  }
 },
 "nbformat": 4,
 "nbformat_minor": 5
}
