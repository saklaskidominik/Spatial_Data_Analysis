{
 "cells": [
  {
   "cell_type": "markdown",
   "id": "8712e60b-7760-4dd4-b1ce-9c0e5d40f802",
   "metadata": {},
   "source": [
    "<h2 style=\"text-align: center;\">Task Set 2</h2>\n",
    "<h1 style=\"text-align: center;\">Intensity of the point process</h1>"
   ]
  },
  {
   "cell_type": "markdown",
   "id": "19c018fd-2900-4c69-8ea2-7b1e10c2a1e8",
   "metadata": {},
   "source": [
    "#### 1.  Wczytanie potrzebnych pakietów"
   ]
  },
  {
   "cell_type": "code",
   "execution_count": null,
   "id": "e2bb1740-6c72-49d8-a0bd-b2a71a7247d7",
   "metadata": {},
   "outputs": [],
   "source": []
  },
  {
   "cell_type": "markdown",
   "id": "ec2d4642-0a36-4594-8908-5f845bf22141",
   "metadata": {},
   "source": [
    "#### 2. Wczytanie obiektu klasy $ppp$\n",
    "Wczytaj obiekt klasy `ppp` o nazwie `murchison`, który znajduje się w pakiecie `spatstat`. Dane te\n",
    "reprezentują lokalizację złoż złota wraz z geologią obszaru Murchison w zachodniej Australii.\n",
    "Zestaw danych składa się z trzech elementów:\n",
    "- `gold` – proces punktowy występowania złóż złota\n",
    "- `faults` – położenie uskoków\n",
    "- `greenstone`- obszary występowania wychodni zieleńców "
   ]
  },
  {
   "cell_type": "code",
   "execution_count": null,
   "id": "d889610f-c831-4931-b338-2e49dd76161a",
   "metadata": {},
   "outputs": [],
   "source": []
  },
  {
   "cell_type": "markdown",
   "id": "1d0f4a0f-2815-43b4-90a8-534c466d28d4",
   "metadata": {},
   "source": [
    "#### 3. Wyświetlenie mapy i sprawdzenie klasy zmiennych\n",
    "Wyświetl mapę na której będą: `lokalizacje złóż złota`, `położenie uskoków` oraz `występowanie\n",
    "wychodni zieleńców`. Sprawdź i wyjaśnij klasę każdej ze zmiennej (gold, faults, greenstone)."
   ]
  },
  {
   "cell_type": "code",
   "execution_count": null,
   "id": "273e3ffc-1129-4383-8279-bd7e8e443e5f",
   "metadata": {},
   "outputs": [],
   "source": []
  },
  {
   "cell_type": "markdown",
   "id": "0dcf234c-6b07-4d1f-bf98-af1932a37fa7",
   "metadata": {},
   "source": [
    "#### 4. Obliczenie estymatora $\\hat{λ}$\n",
    "Dla złoż złoża oblicz estymator $\\hat{λ}$ używając funkcji `summary()`."
   ]
  },
  {
   "cell_type": "code",
   "execution_count": null,
   "id": "0f0cc3c4-a89c-4aa1-a83c-ddcae280ad83",
   "metadata": {},
   "outputs": [],
   "source": []
  },
  {
   "cell_type": "markdown",
   "id": "731e2878-9273-4232-ad5e-94502cf49673",
   "metadata": {},
   "source": [
    "#### 5. Wizualizacja mapy rozmieszczenia złóż złota i zliczanie punktów w kwadratach \n",
    "Wyświetl mapę rozmieszczenia samych złóż złota. Wykonaj zliczenie punktów w kwadratach\n",
    "dzieląc obszar na siatkę 5x5. Estymacja funkcji intensywności odbywa się przez zliczanie punktów\n",
    "w podobszarach. Przedstaw wynik nakładając go na mapę rozmieszczenia punktów. "
   ]
  },
  {
   "cell_type": "code",
   "execution_count": null,
   "id": "d6066b71-1ad7-4206-9897-ba257717ae1e",
   "metadata": {},
   "outputs": [],
   "source": []
  },
  {
   "cell_type": "markdown",
   "id": "1fbcc12d-b0b7-4864-be84-0b13db9b6e2a",
   "metadata": {},
   "source": [
    "#### 6. Test jednorodności rozmieszczenia złóż złota\n",
    "Jednym ze sposobów sprawdzenia czy wynik otrzymany poprzez zliczanie punktów w\n",
    "podobszarach świadczy o intensywności niejednorodnej jest przeprowadzenie `testu istotności\n",
    "statystycznej`. Załóż hipotezę zerową o całkowicie losowym rozmieszczeniu. Wykonaj test\n",
    "świadczący o jednorodności rozmieszczenia zbioru punktowego za pomocą funkcji `quadrat.test()`.\n",
    "Wykonaj zliczenia w siatce 5x5. \n"
   ]
  },
  {
   "cell_type": "code",
   "execution_count": null,
   "id": "39509c78-40c4-45e1-add8-0593be2873fa",
   "metadata": {},
   "outputs": [],
   "source": []
  },
  {
   "cell_type": "markdown",
   "id": "7e1b387f-1ec7-450d-b097-23d6faf4559a",
   "metadata": {},
   "source": [
    "#### 7. Prezentacja estymatora jądrowego gęstości złóż złota przy użyciu funkcji $density()$\n",
    "Przedstaw estymator jądrowy gęstości dla lokalizacji złóż złota używając funkcji `density()`."
   ]
  },
  {
   "cell_type": "code",
   "execution_count": null,
   "id": "4a612018-260c-4414-a18e-885e0285d95e",
   "metadata": {},
   "outputs": [],
   "source": []
  },
  {
   "cell_type": "markdown",
   "id": "9d28a816-1519-4d86-bcbc-3858c2c473c7",
   "metadata": {},
   "source": [
    "#### 8. Analiza intensywności złóż złota przy użyciu estymatora jądrowego gęstości\n",
    "Wartość zwracana przez funkcję density jest klasy `„im”` (pixel image). Klasa ta posiada metody :\n",
    "print, summary, plot, contour (contour plots), persp (perspective plots) itp. Przetestuj podane\n",
    "metody i wyświetl wynik intensywności w postaci mapy 3D oraz izolinii 2D. "
   ]
  },
  {
   "cell_type": "code",
   "execution_count": null,
   "id": "26a8972a-2017-4d9d-b4e4-539d0f7780be",
   "metadata": {},
   "outputs": [],
   "source": []
  }
 ],
 "metadata": {
  "kernelspec": {
   "display_name": "R",
   "language": "R",
   "name": "ir"
  },
  "language_info": {
   "codemirror_mode": "r",
   "file_extension": ".r",
   "mimetype": "text/x-r-source",
   "name": "R",
   "pygments_lexer": "r",
   "version": "4.4.2"
  }
 },
 "nbformat": 4,
 "nbformat_minor": 5
}
